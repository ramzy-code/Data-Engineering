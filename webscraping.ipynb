{
 "cells": [
  {
   "cell_type": "code",
   "execution_count": 4,
   "metadata": {},
   "outputs": [
    {
     "name": "stdout",
     "output_type": "stream",
     "text": [
      "<Response [200]>\n",
      "200\n"
     ]
    }
   ],
   "source": [
    "import  requests\n",
    "#response\n",
    "response = requests.get('https://api.github.com')\n",
    "print(response )\n",
    "#status code\n",
    "print(response.status_code)\n",
    "# best to use\n",
    "response.raise_for_status()"
   ]
  },
  {
   "cell_type": "code",
   "execution_count": 5,
   "metadata": {},
   "outputs": [],
   "source": [
    "#libaries for web scraping\n",
    "import requests\n",
    "import bs4"
   ]
  },
  {
   "cell_type": "code",
   "execution_count": 11,
   "metadata": {},
   "outputs": [],
   "source": [
    "#using the get method in requests\n",
    "response = requests.get('https://www.unileoben.ac.at/en/jobs')"
   ]
  },
  {
   "cell_type": "code",
   "execution_count": 12,
   "metadata": {},
   "outputs": [],
   "source": [
    "#convert txt to the orgin HTML file.\n",
    "result=response.text\n",
    "soup = bs4.BeautifulSoup(result,'lxml')"
   ]
  },
  {
   "cell_type": "code",
   "execution_count": 13,
   "metadata": {},
   "outputs": [
    {
     "name": "stdout",
     "output_type": "stream",
     "text": [
      "Human Resources\n",
      "*****************************************************************************************************\n",
      "Tania Moser\n",
      "*****************************************************************************************************\n",
      "office-personalabteilung(at)unileoben.ac.at\n",
      "*****************************************************************************************************\n",
      "+43 3842 402-7053\n",
      "*****************************************************************************************************\n",
      "Montanuniversität Leoben aims to increase the percentage of women in management functions and in scientific staff and therefore requests qualified women to apply for job postings. In the case of the same qualification, women are employed preferentially.\n",
      "*****************************************************************************************************\n",
      "By the end of the application deadline, applications are to be sent to:\n",
      "*****************************************************************************************************\n",
      "Montanuniversität Leoben Zentrale Dienste - Personal/Amt der Universität Franz-Josef-Straße 18 8700 Leoben  \n",
      "*****************************************************************************************************\n",
      "MONTANUNIVERSITÄT LEOBEN, A-8700 LEOBEN, FRANZ JOSEF-STRASSE 18, TEL.: +43 3842 402-0, FAX: +43 3842 402-7702\n",
      "*****************************************************************************************************\n"
     ]
    }
   ],
   "source": [
    "# get the paragraphs and the text of everyone using getText()\n",
    "p_list =soup.select('p')\n",
    "for parg in p_list:\n",
    "    print(parg.getText())\n",
    "    print('*****************************************************************************************************')"
   ]
  },
  {
   "cell_type": "markdown",
   "metadata": {},
   "source": [
    "the syntax for select() \n",
    "soup.select('dic) ... all elements with div tag.\n",
    "soup.select('#id')... all elements with id.\n",
    "soup.select('.class')... all elements with class.\n",
    "soup.select('div span') .. any element named span within div\n"
   ]
  },
  {
   "cell_type": "code",
   "execution_count": 20,
   "metadata": {},
   "outputs": [
    {
     "data": {
      "text/plain": [
       "'SpecificationPDFApplication DeadlineStellenausschreibung: 1 Arbeitsplatz für eine/n vollbeschäftigte/n Universitätsassistentin/en am Lehrstuhl für Nichteisenmetallurgie im Department Metallurgie - Referenznummer: 2102WPG (2102WPG)11.03.2021ApplyStellenausschreibung: 1 Stelle für eine/n halbbeschäftigte/n Angestellte/n für die Zentralen Dienste – Studien und Lehrgänge - Referenznummer: 2102APB (2102APB)04.03.2021ApplyStellenausschreibung: 1 Stelle für eine/n technische/n Angestellte/n am Lehrstuhl für Eisen- und Stahlmetallurgie im Department Metallurgie - Referenznummer: 2102APD (2102APD)04.03.2021ApplyStellenausschreibung: 1 Stelle für den Lehrberuf „Werkstofftechniker/in“ (Lehrzeit 3 Jahre) am Department Metallurgie – Lehrstuhl für Eisen- und Stahlmetallurgie - Referenznummer: 2102APC (2102APC)04.03.2021ApplyStellenausschreibung: 1 Arbeitsplatz (Ersatzkraft) für eine/n vollbeschäftigte/n Universitätsassistenten/in am Lehrstuhl für Metallkunde und metallische Werkstoffe im Department Werkstoffwissenschaft - Referenznummer: 2102WPC (2102WPC)02.03.2021ApplyStellenausschreibung: 1 Arbeitsplatz für eine/n vollbeschäftigte/n Senior Scientist am Lehrstuhl für Nichteisenmetallurgie im Department Metallurgie - Referenznummer: 2102WPD (2102WPD)02.03.2021ApplyStellenausschreibung: 1 Arbeitsplatz für eine/n vollbeschäftigte/n Universitätsassistentin/en am Lehrstuhl Eisen- und Stahlmetallurgie im Department Metallurgie - Referenznummer: 2102WPF (2102WPF)02.03.2021ApplyStellenausschreibung: 1 Arbeitsplatz für eine/n vollbeschäftigte/n Universitätsassistentin/en am Lehrstuhl für Physikalische Chemie im Department Allgemeine, Analytische und Physikalische Chemie - Referenznummer: 2102WPB (2102WPB)09.03.2021ApplyStellenausschreibung: 1 Arbeitsplatz für eine/n teilzeitbeschäftigte/n Mitarbeiter/in (25-30 Wochenstunden) an der OE Zentrale Dienste – Finanzen und Controlling - Referenznummer: 2102APA (2102APA)02.03.2021ApplyStellenausschreibung: 1 Arbeitsplatz für eine/n vollbeschäftigte/n Universitätsassistentin/en am Lehrstuhl für Materialphysik im Department Werkstoffwissenschaft - Referenznummer: 2102WPE (2102WPE)02.03.2021Apply'"
      ]
     },
     "execution_count": 20,
     "metadata": {},
     "output_type": "execute_result"
    }
   ],
   "source": [
    "jobs_list = soup.select('.table')[0].getText()\n"
   ]
  },
  {
   "cell_type": "code",
   "execution_count": 54,
   "metadata": {},
   "outputs": [
    {
     "ename": "NameError",
     "evalue": "name 'resquests' is not defined",
     "output_type": "error",
     "traceback": [
      "\u001b[1;31m---------------------------------------------------------------------------\u001b[0m",
      "\u001b[1;31mNameError\u001b[0m                                 Traceback (most recent call last)",
      "\u001b[1;32m<ipython-input-54-e18d5c60cb45>\u001b[0m in \u001b[0;36m<module>\u001b[1;34m\u001b[0m\n\u001b[0;32m      6\u001b[0m \u001b[1;31m#print(image[\"src\"])\u001b[0m\u001b[1;33m\u001b[0m\u001b[1;33m\u001b[0m\u001b[1;33m\u001b[0m\u001b[0m\n\u001b[0;32m      7\u001b[0m \u001b[1;31m#create request to the image with the link\u001b[0m\u001b[1;33m\u001b[0m\u001b[1;33m\u001b[0m\u001b[1;33m\u001b[0m\u001b[0m\n\u001b[1;32m----> 8\u001b[1;33m \u001b[0mimage_link\u001b[0m \u001b[1;33m=\u001b[0m \u001b[0mresquests\u001b[0m\u001b[1;33m.\u001b[0m\u001b[0mget\u001b[0m\u001b[1;33m(\u001b[0m\u001b[0mimage\u001b[0m\u001b[1;33m[\u001b[0m\u001b[1;34m'src'\u001b[0m\u001b[1;33m]\u001b[0m\u001b[1;33m)\u001b[0m\u001b[1;33m\u001b[0m\u001b[1;33m\u001b[0m\u001b[0m\n\u001b[0m\u001b[0;32m      9\u001b[0m \u001b[0mimage_link\u001b[0m\u001b[1;33m.\u001b[0m\u001b[0mcontent\u001b[0m\u001b[1;33m\u001b[0m\u001b[1;33m\u001b[0m\u001b[0m\n\u001b[0;32m     10\u001b[0m \u001b[1;31m#open file with the same image file\u001b[0m\u001b[1;33m\u001b[0m\u001b[1;33m\u001b[0m\u001b[1;33m\u001b[0m\u001b[0m\n",
      "\u001b[1;31mNameError\u001b[0m: name 'resquests' is not defined"
     ]
    }
   ],
   "source": [
    "#grabbing image from website\n",
    "res = requests.get('https://www.unileoben.ac.at')\n",
    "soup = bs4.BeautifulSoup(res.text,'lxml')\n",
    "image =soup.select('.news-img-wrap')[0]\n",
    "image\n",
    "#print(image[\"src\"])\n",
    "#create request to the image with the link\n",
    "image_link = resquests.get(image['src'])\n",
    "image_link.content\n",
    "#open file with the same image file\n",
    "with open ('image.jpg', 'wb') as f:\n",
    "    f.write(image_link.com)"
   ]
  },
  {
   "cell_type": "code",
   "execution_count": 64,
   "metadata": {},
   "outputs": [
    {
     "data": {
      "text/plain": [
       "'A Light in the Attic'"
      ]
     },
     "execution_count": 64,
     "metadata": {},
     "output_type": "execute_result"
    }
   ],
   "source": [
    "#get the title of every books with two stars\n",
    "import requests  \n",
    "import bs4\n",
    "# to be able to move and scrape through multiple pages we can use base_url\n",
    "base_url = 'http://books.toscrape.com/catalogue/page-{}.html'\n",
    "result = requests.get(base_url.format(1))\n",
    "soup = bs4.BeautifulSoup(result.text,'lxml')\n",
    "example = soup.select('.product_pod')[0]\n",
    "#when there is space, the space should be replaced with dot.\n",
    "example.select('.star-rating.Three')\n",
    "#grab the the title of the book\n",
    "example.select('a')[1]['title']"
   ]
  },
  {
   "cell_type": "code",
   "execution_count": 65,
   "metadata": {},
   "outputs": [],
   "source": [
    "two_star_titles = []\n",
    "\n",
    "for n in range(1,51):\n",
    "    res = requests.get(base_url.format(n))\n",
    "    soup = bs4.BeautifulSoup(res.text,'lxml')\n",
    "    books = soup.select('.product_pod')\n",
    "    \n",
    "    for book in books:\n",
    "        if len(book.select('star-rating.Two')) != 0:\n",
    "            book_tiltle = book.select('a')[1]['title']\n",
    "            two_star_titles.append(book_title)"
   ]
  }
 ],
 "metadata": {
  "kernelspec": {
   "display_name": "Python 3",
   "language": "python",
   "name": "python3"
  },
  "language_info": {
   "codemirror_mode": {
    "name": "ipython",
    "version": 3
   },
   "file_extension": ".py",
   "mimetype": "text/x-python",
   "name": "python",
   "nbconvert_exporter": "python",
   "pygments_lexer": "ipython3",
   "version": "3.8.5"
  }
 },
 "nbformat": 4,
 "nbformat_minor": 4
}
